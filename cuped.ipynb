{
 "cells": [
  {
   "cell_type": "markdown",
   "id": "ce8e7e6e-4b71-485f-922c-33c535133e55",
   "metadata": {},
   "source": [
    "# Cuped"
   ]
  },
  {
   "cell_type": "markdown",
   "id": "564af950-1826-4db4-bb73-e64ab0c7ac79",
   "metadata": {},
   "source": [
    "## Table of Contents\n",
    "* [Introduction](#1)\n",
    "* [Experiments](#2)\n",
    "* [Simulation 1](#3)\n",
    "* [Simulation 2](#4)\n",
    "* [Simulation 3](#5)\n",
    "* [Conclusions](#6)"
   ]
  },
  {
   "cell_type": "markdown",
   "id": "a66784c1-1ee3-48d0-a701-17a00d622e7e",
   "metadata": {},
   "source": [
    "## Introduction <a class=\"anchor\" id=\"1\"></a>"
   ]
  },
  {
   "cell_type": "markdown",
   "id": "d08da1cc-620a-4109-8abe-5a31612c52ff",
   "metadata": {},
   "source": [
    "CUPED, which was developed by Deng, Xu, Kohavi, and Walker, is a technique that can be utilized in A/B testing to reduce variance. By utilizing historical \"before\" data and computing an adjusted evaluation metric, we can lower variance in A/B testing. It appears that several major internet companies, including Bing, Facebook, Netflix, Booking, and Etsy, have adopted CUPED. In this notebook, I will use Monte Carlo simulations of A/B tests to explain how CUPED works.\n",
    "\n",
    "The main use-case of CUPED is improving the sensitivity of the test by reducing the variance. Then we can exchange the sensitivity for the number of observations, therefore, we can conduct tests of the same strength only with fewer users or with less time.\n",
    "\n",
    "Let's consider an A/B testing scenario where we are measuring a specific metric. In this setup, we have a total of `N` users that have been randomly split into two groups - A and B. Group A is the control group, while group B is the treatment group. We have measured the metric `X` for each user during the \"before\" AB test period when the treatment and control groups were the same, and `Y` during the \"after\" period when the treatment was applied to group B.\n",
    "\n",
    "To compute a \"cuped after\":\n",
    "1. Calculate the covariance `cov(X, Y)` and variance `var(X)`.\n",
    "2. Calculate theta coefficient `θ = cov(X, Y) / var(X)`.\n",
    "3. Calculate the mean of metric \"before\" period `X_mean`. (mean should be as commont as possible, so if you hava AB test on 20% of users calculate mean from whole dataset).\n",
    "4. Calculate the \"cuped after\" `Y_cuped = Y - θ * (X - X_mean)`.\n",
    "5. Use `Y_cuped` next instead of `Y`.\n",
    "\n",
    "In summary, CUPED helps adjust the \"after\" metric by considering the variance and covariance of metric in the \"before\" and \"after\" periods, and allows for a more accurate evaluation of the A/B test results."
   ]
  },
  {
   "cell_type": "code",
   "execution_count": 3,
   "id": "6cefa648-e498-4303-98bb-68f2f6bb0737",
   "metadata": {},
   "outputs": [],
   "source": [
    "from tqdm import tqdm\n",
    "import numpy as np\n",
    "from scipy.stats import ttest_ind, kstest\n",
    "import pandas as pd\n",
    "import statsmodels.formula.api as smf\n",
    "\n",
    "import matplotlib.pyplot as plt\n",
    "import seaborn as sns\n",
    "\n",
    "import warnings\n",
    "warnings.filterwarnings('ignore')"
   ]
  },
  {
   "cell_type": "markdown",
   "id": "44e36662-96c1-437b-a53e-2b131d25e06d",
   "metadata": {},
   "source": [
    "## Experiments <a class=\"anchor\" id=\"2\"></a>"
   ]
  },
  {
   "cell_type": "markdown",
   "id": "8dbfbe13-40d2-4862-bb38-488afbd88ccc",
   "metadata": {},
   "source": [
    "Here I will sample \"before\" metric from normal distribution, \"after\" metric would be \"before\" + small changes, and users from treatment group would get some \"lift\" in their \"after\" metric. Users are splitted into control and treatment groups randomly and equally:"
   ]
  },
  {
   "cell_type": "code",
   "execution_count": 4,
   "id": "c6b3dad9-2955-4cce-bf07-e9c33f838b5b",
   "metadata": {},
   "outputs": [],
   "source": [
    "def get_samples(\n",
    "    N: int,\n",
    "    mean: float,\n",
    "    std: float,\n",
    "    std_after: float,\n",
    "    lift: float\n",
    ") -> pd.DataFrame:\n",
    "    \n",
    "    df = pd.DataFrame()\n",
    "    df['before'] = np.random.normal(mean, std, N)\n",
    "    df['after'] = df['before'] + np.random.normal(0, std_after, N)\n",
    "    df['group'] = 0\n",
    "    df.loc[np.random.choice(N, N//2, replace=False), 'group'] = 1\n",
    "    df.loc[df['group'] == 1, 'after'] += lift\n",
    "    \n",
    "    return df"
   ]
  },
  {
   "cell_type": "code",
   "execution_count": 6,
   "id": "070f5d0a-f764-4de5-9c43-5ae2a550a40d",
   "metadata": {},
   "outputs": [
    {
     "data": {
      "text/html": [
       "<div>\n",
       "<style scoped>\n",
       "    .dataframe tbody tr th:only-of-type {\n",
       "        vertical-align: middle;\n",
       "    }\n",
       "\n",
       "    .dataframe tbody tr th {\n",
       "        vertical-align: top;\n",
       "    }\n",
       "\n",
       "    .dataframe thead th {\n",
       "        text-align: right;\n",
       "    }\n",
       "</style>\n",
       "<table border=\"1\" class=\"dataframe\">\n",
       "  <thead>\n",
       "    <tr style=\"text-align: right;\">\n",
       "      <th></th>\n",
       "      <th>before</th>\n",
       "      <th>after</th>\n",
       "      <th>group</th>\n",
       "    </tr>\n",
       "  </thead>\n",
       "  <tbody>\n",
       "    <tr>\n",
       "      <th>0</th>\n",
       "      <td>87.071392</td>\n",
       "      <td>102.720594</td>\n",
       "      <td>1</td>\n",
       "    </tr>\n",
       "    <tr>\n",
       "      <th>1</th>\n",
       "      <td>84.321544</td>\n",
       "      <td>97.728542</td>\n",
       "      <td>0</td>\n",
       "    </tr>\n",
       "    <tr>\n",
       "      <th>2</th>\n",
       "      <td>105.115080</td>\n",
       "      <td>121.410045</td>\n",
       "      <td>1</td>\n",
       "    </tr>\n",
       "    <tr>\n",
       "      <th>3</th>\n",
       "      <td>90.205394</td>\n",
       "      <td>102.628261</td>\n",
       "      <td>1</td>\n",
       "    </tr>\n",
       "    <tr>\n",
       "      <th>4</th>\n",
       "      <td>127.564620</td>\n",
       "      <td>146.716755</td>\n",
       "      <td>1</td>\n",
       "    </tr>\n",
       "  </tbody>\n",
       "</table>\n",
       "</div>"
      ],
      "text/plain": [
       "       before       after  group\n",
       "0   87.071392  102.720594      1\n",
       "1   84.321544   97.728542      0\n",
       "2  105.115080  121.410045      1\n",
       "3   90.205394  102.628261      1\n",
       "4  127.564620  146.716755      1"
      ]
     },
     "execution_count": 6,
     "metadata": {},
     "output_type": "execute_result"
    }
   ],
   "source": [
    "get_samples(N=4000, mean=100, std=20, std_after=10, lift=20).head()"
   ]
  },
  {
   "cell_type": "markdown",
   "id": "045d4131-cfd6-42bb-b4ae-064025b1a513",
   "metadata": {},
   "source": [
    "I fit linear regression with \"affter\" metric as target and 'before' metric as the only predictor, and take resulting coefficient as theta. Mean is computed from all \"before\" data: "
   ]
  },
  {
   "cell_type": "code",
   "execution_count": 5,
   "id": "40080a58-082c-414c-b679-e6d1a52bdd38",
   "metadata": {},
   "outputs": [],
   "source": [
    "def cuped(df: pd.DataFrame, use_theta: bool=True) -> pd.DataFrame:\n",
    "    \n",
    "    if use_theta:\n",
    "        theta = smf.ols('after ~ before', data=df).fit().params[1]\n",
    "    else:\n",
    "        theta = 1\n",
    "        \n",
    "    df['cuped'] = df['after'] - theta * (df['before'] - np.mean(df['before']))\n",
    "    \n",
    "    return df"
   ]
  },
  {
   "cell_type": "markdown",
   "id": "10631c3c-6972-4cf7-a232-db9b5db5263f",
   "metadata": {},
   "source": [
    "Here I make Monte-Carlo sumulation, computing variances of default metric and cuped one. It can be seen from the plot that average variance significantly decreases when it is cuped. We can already conclude that the sensitivity of the test increases and the results will improve on a metric with a smaller variance:"
   ]
  },
  {
   "cell_type": "code",
   "execution_count": 4,
   "id": "c29ee25d-5559-47f8-b53d-22c5f25603a6",
   "metadata": {},
   "outputs": [
    {
     "name": "stderr",
     "output_type": "stream",
     "text": [
      "100%|█████████████████████████████████████████| 1000/1000 [00:06<00:00, 160.11it/s]\n"
     ]
    },
    {
     "data": {
      "image/png": "[encoded data removed]",
      "text/plain": [
       "<Figure size 1000x400 with 1 Axes>"
      ]
     },
     "metadata": {},
     "output_type": "display_data"
    }
   ],
   "source": [
    "var_default = []\n",
    "var_cuped = []\n",
    "\n",
    "for _ in tqdm(range(1000)):\n",
    "    df = get_samples(N=4000, mean=100, std=20, std_after=10, lift=20)\n",
    "    df = cuped(df)\n",
    "    var_default.append(np.var(df['after']))\n",
    "    var_cuped.append(np.var(df['cuped']))\n",
    "\n",
    "plt.subplots(figsize=(10,4))\n",
    "sns.distplot(var_default, label='default')\n",
    "sns.distplot(var_cuped, label='cuped')\n",
    "plt.title('Distribution of variances', fontsize=15)\n",
    "plt.legend();"
   ]
  },
  {
   "cell_type": "markdown",
   "id": "3c6dca90-ce81-4895-8968-4742c22bc1b4",
   "metadata": {},
   "source": [
    "## Simulation 1 <a class=\"anchor\" id=\"3\"></a>"
   ]
  },
  {
   "cell_type": "markdown",
   "id": "2e45b45c-696c-4425-b755-ac509427cdb7",
   "metadata": {},
   "source": [
    "Here I will simulate N times AB test and conduct t-test on default and cuped metrics:"
   ]
  },
  {
   "cell_type": "code",
   "execution_count": 5,
   "id": "477103ca-9777-443b-9dca-bc73ae241981",
   "metadata": {},
   "outputs": [],
   "source": [
    "def simulate(N: int, generation_conf: dict) -> tuple[np.ndarray, np.ndarray, np.ndarray, np.ndarray]:\n",
    "    pvalues_default = []\n",
    "    pvalues_cuped = []\n",
    "    lifts_default = []\n",
    "    lifts_cuped = []\n",
    "\n",
    "    for _ in tqdm(range(N)):\n",
    "        df = get_samples(**generation_conf)\n",
    "        df = cuped(df)\n",
    "\n",
    "        a_after = df[df['group'] == 0]['after'].values\n",
    "        b_after = df[df['group'] == 1]['after'].values\n",
    "        a_after_cuped = df[df['group'] == 0]['cuped'].values\n",
    "        b_after_cuped = df[df['group'] == 1]['cuped'].values\n",
    "\n",
    "        pvalues_default.append(ttest_ind(a_after, b_after).pvalue)\n",
    "        pvalues_cuped.append(ttest_ind(a_after_cuped, b_after_cuped).pvalue)\n",
    "\n",
    "        lifts_default.append(np.mean(b_after) - np.mean(a_after))\n",
    "        lifts_cuped.append(np.mean(b_after_cuped) - np.mean(a_after_cuped))\n",
    "        \n",
    "    return (\n",
    "        np.array(pvalues_default), \n",
    "        np.array(pvalues_cuped), \n",
    "        np.array(lifts_default), \n",
    "        np.array(lifts_cuped)\n",
    "    )"
   ]
  },
  {
   "cell_type": "code",
   "execution_count": 6,
   "id": "460197a2-88f4-4cc0-85a5-80b6972d884e",
   "metadata": {},
   "outputs": [],
   "source": [
    "def print_stats(pvalues_default: np.ndarray, pvalues_cuped: np.ndarray, lifts_default: np.ndarray, lifts_cuped: np.ndarray):\n",
    "    \n",
    "    print(f'Default:  p-values less than 0.05 = {np.sum(pvalues_default < 0.05)}\\\n",
    ", mean p-value = {np.round(np.mean(pvalues_default), 5)}, variance of p-values = {np.round(np.var(pvalues_default), 10)}')\n",
    "    print(f'          mean of computed lifts = {np.round(np.mean(lifts_default), 3)}\\\n",
    ", variance of lifts = {np.round(np.var(lifts_default), 3)}')\n",
    "\n",
    "    print(f'\\nCuped:    p-values less than 0.05 = {np.sum(pvalues_cuped < 0.05)}\\\n",
    ", mean p-value = {np.round(np.mean(pvalues_cuped), 5)}, variance of p-values = {np.round(np.var(pvalues_cuped), 10)}')\n",
    "    print(f'          mean of computed lifts = {np.round(np.mean(lifts_cuped), 3)}\\\n",
    ", variance of lifts = {np.round(np.var(lifts_cuped), 3)}')"
   ]
  },
  {
   "cell_type": "code",
   "execution_count": 7,
   "id": "832d9c33-f965-4687-98fc-2124e45e8aee",
   "metadata": {
    "scrolled": true,
    "tags": []
   },
   "outputs": [
    {
     "name": "stderr",
     "output_type": "stream",
     "text": [
      "100%|█████████████████████████████████████████| 1000/1000 [00:06<00:00, 143.23it/s]"
     ]
    },
    {
     "name": "stdout",
     "output_type": "stream",
     "text": [
      "Default:  p-values less than 0.05 = 999, mean p-value = 0.0003, variance of p-values = 5.775e-06\n",
      "          mean of computed lifts = 5.082, variance of lifts = 1.057\n",
      "\n",
      "Cuped:    p-values less than 0.05 = 1000, mean p-value = 0.0, variance of p-values = 0.0\n",
      "          mean of computed lifts = 5.026, variance of lifts = 0.217\n"
     ]
    },
    {
     "name": "stderr",
     "output_type": "stream",
     "text": [
      "\n"
     ]
    }
   ],
   "source": [
    "pvalues_default, pvalues_cuped, lifts_default, lifts_cuped = simulate(\n",
    "    1000, \n",
    "    {'N': 2000, 'mean': 100, 'std': 20, 'std_after': 10, 'lift': 5}\n",
    ")\n",
    "\n",
    "print_stats(pvalues_default, pvalues_cuped, lifts_default, lifts_cuped)"
   ]
  },
  {
   "cell_type": "markdown",
   "id": "dabf4aa4-e19d-4bc5-a135-0da55bb8b30f",
   "metadata": {},
   "source": [
    "We can see that t-test on cuped metric is more confident, varience of p-values is smaller as well as varience of lifts(what was shown before), mean of lifts is closer to real."
   ]
  },
  {
   "cell_type": "markdown",
   "id": "7c62cf11-0dba-45b5-93ac-c1d0d893787b",
   "metadata": {},
   "source": [
    "However to show difference better lets make lift smaller:"
   ]
  },
  {
   "cell_type": "code",
   "execution_count": 8,
   "id": "1cc9e683-a1a3-43c8-b7fe-cc3c3ebcde12",
   "metadata": {},
   "outputs": [
    {
     "name": "stderr",
     "output_type": "stream",
     "text": [
      "100%|█████████████████████████████████████████| 1000/1000 [00:08<00:00, 124.38it/s]"
     ]
    },
    {
     "name": "stdout",
     "output_type": "stream",
     "text": [
      "Default:  p-values less than 0.05 = 339, mean p-value = 0.23647, variance of p-values = 0.0718027522\n",
      "          mean of computed lifts = 0.973, variance of lifts = 0.406\n",
      "\n",
      "Cuped:    p-values less than 0.05 = 950, mean p-value = 0.01276, variance of p-values = 0.0030232128\n",
      "          mean of computed lifts = 1.005, variance of lifts = 0.079\n"
     ]
    },
    {
     "name": "stderr",
     "output_type": "stream",
     "text": [
      "\n"
     ]
    }
   ],
   "source": [
    "pvalues_default, pvalues_cuped, lifts_default, lifts_cuped = simulate(\n",
    "    1000, \n",
    "    {'N': 5000, 'mean': 100, 'std': 20, 'std_after': 10, 'lift': 1}\n",
    ")\n",
    "\n",
    "print_stats(pvalues_default, pvalues_cuped, lifts_default, lifts_cuped)"
   ]
  },
  {
   "cell_type": "code",
   "execution_count": 9,
   "id": "93084d25-885b-46b4-a0c8-8c779dd27af7",
   "metadata": {},
   "outputs": [
    {
     "name": "stderr",
     "output_type": "stream",
     "text": [
      "100%|█████████████████████████████████████████| 1000/1000 [00:07<00:00, 128.28it/s]"
     ]
    },
    {
     "name": "stdout",
     "output_type": "stream",
     "text": [
      "Default:  p-values less than 0.05 = 85, mean p-value = 0.44092, variance of p-values = 0.0878017199\n",
      "          mean of computed lifts = 1.105, variance of lifts = 3.456\n",
      "\n",
      "Cuped:    p-values less than 0.05 = 782, mean p-value = 0.055, variance of p-values = 0.0177308453\n",
      "          mean of computed lifts = 0.989, variance of lifts = 0.131\n"
     ]
    },
    {
     "name": "stderr",
     "output_type": "stream",
     "text": [
      "\n"
     ]
    }
   ],
   "source": [
    "pvalues_default, pvalues_cuped, lifts_default, lifts_cuped = simulate(\n",
    "    1000, \n",
    "    {'N': 3000, 'mean': 100, 'std': 50, 'std_after': 10, 'lift': 1}\n",
    ")\n",
    "\n",
    "print_stats(pvalues_default, pvalues_cuped, lifts_default, lifts_cuped)"
   ]
  },
  {
   "cell_type": "markdown",
   "id": "bfb32a1b-f531-4e72-9c97-de5196a772e9",
   "metadata": {},
   "source": [
    "We can see how tests on cuped metric can detect even small lift, while tests on default metric much more often fails. This excellent shows higher sensitivity of cuped metric."
   ]
  },
  {
   "cell_type": "code",
   "execution_count": 10,
   "id": "9978d57d-6039-4133-97e6-c1f517883831",
   "metadata": {},
   "outputs": [
    {
     "data": {
      "image/png": "[encoded data removed]",
      "text/plain": [
       "<Figure size 1500x1000 with 2 Axes>"
      ]
     },
     "metadata": {},
     "output_type": "display_data"
    }
   ],
   "source": [
    "fig, ax = plt.subplots(2, 1, figsize=(15, 10))\n",
    "ax = ax.ravel()\n",
    "\n",
    "sns.histplot(pvalues_cuped, bins=25, color='blue', label='cuped', ax=ax[0])\n",
    "sns.histplot(pvalues_default, bins=25, color='yellow', alpha=0.5, label='default', ax=ax[0])\n",
    "ax[0].axvline(0.05, linestyle='dashed', color='red', label='alpha')\n",
    "ax[0].set_title('Distribution of p-values', fontsize=18)\n",
    "ax[0].legend()\n",
    "\n",
    "sns.histplot(lifts_default, bins=25, color='yellow', alpha=0.5, label='default', ax=ax[1])\n",
    "sns.histplot(lifts_cuped, bins=25, color='blue', label='cuped', ax=ax[1])\n",
    "ax[1].set_title('Distribution of lifts', fontsize=18)\n",
    "ax[1].legend();"
   ]
  },
  {
   "cell_type": "markdown",
   "id": "982493eb-31c4-41a3-8d6d-c06b58bc90bd",
   "metadata": {},
   "source": [
    "## Simulation 2 <a class=\"anchor\" id=\"4\"></a>"
   ]
  },
  {
   "cell_type": "markdown",
   "id": "6120db4a-0ce3-468a-86ce-152569acf4d2",
   "metadata": {},
   "source": [
    "Here I will also do simulation, but in treatment group instead of lift, would be just noise. Then I will conduct Kolmogorov-Smirnov test on default and cuped metric. So lets see hot test would detect this noise:"
   ]
  },
  {
   "cell_type": "code",
   "execution_count": 11,
   "id": "578fdfd1-8501-4ae3-bb8f-4ba932015a14",
   "metadata": {},
   "outputs": [],
   "source": [
    "def simulate2(N: int, generation_conf: dict) -> tuple[float, float]:\n",
    "    counter_default = 0\n",
    "    counter_cuped = 0\n",
    "    \n",
    "    for _ in tqdm(range(N)):\n",
    "        df = get_samples(**generation_conf)\n",
    "        df = cuped(df)\n",
    "\n",
    "        a_after = df[df['group'] == 0]['after'].values\n",
    "        b_after = df[df['group'] == 1]['after'].values\n",
    "        a_after_cuped = df[df['group'] == 0]['cuped'].values\n",
    "        b_after_cuped = df[df['group'] == 1]['cuped'].values\n",
    "        \n",
    "        if kstest(a_after, b_after).pvalue < 0.05:\n",
    "            counter_default += 1\n",
    "            \n",
    "        if kstest(a_after_cuped, b_after_cuped).pvalue < 0.05:\n",
    "            counter_cuped += 1\n",
    "            \n",
    "    return (counter_default / N, counter_cuped / N)"
   ]
  },
  {
   "cell_type": "code",
   "execution_count": 12,
   "id": "8f788dbf-302e-49be-9dd8-b8b2e9510f46",
   "metadata": {},
   "outputs": [
    {
     "name": "stderr",
     "output_type": "stream",
     "text": [
      "100%|█████████████████████████████████████████| 1000/1000 [00:08<00:00, 113.71it/s]"
     ]
    },
    {
     "name": "stdout",
     "output_type": "stream",
     "text": [
      "Default caught noise in 4.7% of cases\n",
      "Cuped caught noise in 6.3% of cases\n"
     ]
    },
    {
     "name": "stderr",
     "output_type": "stream",
     "text": [
      "\n"
     ]
    }
   ],
   "source": [
    "res = simulate2(\n",
    "    N = 1000, \n",
    "    generation_conf = {'N': 2000, 'mean': 100, 'std': 50, 'std_after': 10, 'lift': np.random.normal(0, 2, 1000)}\n",
    ")\n",
    "\n",
    "print(f'Default caught noise in {np.round(res[0] * 100, 2)}% of cases')\n",
    "print(f'Cuped caught noise in {np.round(res[1] * 100, 2)}% of cases')"
   ]
  },
  {
   "cell_type": "markdown",
   "id": "79dde2d2-17ae-4b23-8150-dc1ef668f839",
   "metadata": {},
   "source": [
    "Firstly seems that nothing special, test on both metrics cannot detect such small noise well. But now I will slightly increasy the noise:"
   ]
  },
  {
   "cell_type": "code",
   "execution_count": 13,
   "id": "81fd5d68-76ff-4e21-81e6-9a0a0b6899c5",
   "metadata": {},
   "outputs": [
    {
     "name": "stderr",
     "output_type": "stream",
     "text": [
      "100%|█████████████████████████████████████████| 1000/1000 [00:07<00:00, 125.96it/s]"
     ]
    },
    {
     "name": "stdout",
     "output_type": "stream",
     "text": [
      "Default caught noise in 4.2% of cases\n",
      "Cuped caught noise in 27.1% of cases\n"
     ]
    },
    {
     "name": "stderr",
     "output_type": "stream",
     "text": [
      "\n"
     ]
    }
   ],
   "source": [
    "res = simulate2(\n",
    "    N = 1000, \n",
    "    generation_conf = {'N': 2000, 'mean': 100, 'std': 50, 'std_after': 10, 'lift': np.random.normal(0, 5, 1000)}\n",
    ")\n",
    "\n",
    "print(f'Default caught noise in {np.round(res[0] * 100, 2)}% of cases')\n",
    "print(f'Cuped caught noise in {np.round(res[1] * 100, 2)}% of cases')"
   ]
  },
  {
   "cell_type": "code",
   "execution_count": 14,
   "id": "7c0fed29-c291-474b-8ae3-019bc312ffab",
   "metadata": {},
   "outputs": [
    {
     "name": "stderr",
     "output_type": "stream",
     "text": [
      "100%|█████████████████████████████████████████| 1000/1000 [00:08<00:00, 124.14it/s]"
     ]
    },
    {
     "name": "stdout",
     "output_type": "stream",
     "text": [
      "Default caught noise in 4.3% of cases\n",
      "Cuped caught noise in 100.0% of cases\n"
     ]
    },
    {
     "name": "stderr",
     "output_type": "stream",
     "text": [
      "\n"
     ]
    }
   ],
   "source": [
    "res = simulate2(\n",
    "    N = 1000, \n",
    "    generation_conf = {'N': 2000, 'mean': 100, 'std': 50, 'std_after': 10, 'lift': np.random.normal(0, 10, 1000)}\n",
    ")\n",
    "\n",
    "print(f'Default caught noise in {np.round(res[0] * 100, 2)}% of cases')\n",
    "print(f'Cuped caught noise in {np.round(res[1] * 100, 2)}% of cases')"
   ]
  },
  {
   "cell_type": "markdown",
   "id": "f827974b-4703-40f5-93f1-0f7eaf620725",
   "metadata": {},
   "source": [
    "Results of test on default metric remained almost the same, while on cuped metric increased significantly."
   ]
  },
  {
   "cell_type": "markdown",
   "id": "742dda7c-b589-42ba-ba88-300bdf08abb7",
   "metadata": {},
   "source": [
    "## Simulation 3 <a class=\"anchor\" id=\"5\"></a>"
   ]
  },
  {
   "cell_type": "markdown",
   "id": "721800c5-b72a-42b6-b7f6-6982dcd168c4",
   "metadata": {},
   "source": [
    "Now I wanna provide code more closer to real-world task. As I mentioned it is better to compute mean not only from our \"before\" metric but from as big approximation of population as possible (as far it is consistent with ab groups). For example you can include data even \"before before\" for mean computation. Or if you conduct ab test not on whole population(which is almost always), you can just compute mean from whole population (important note: don't compute mean from \"after\").\n",
    "\n",
    "Here only part of data would be in ab test, and mean whoud be computed from whole data:"
   ]
  },
  {
   "cell_type": "code",
   "execution_count": 15,
   "id": "dd754a9a-bd01-4856-9dcf-091326fdc483",
   "metadata": {},
   "outputs": [],
   "source": [
    "def get_samples_real(\n",
    "    N: int,\n",
    "    test_size: int,\n",
    "    mean: float,\n",
    "    std: float,\n",
    "    std_after: float,\n",
    "    lift: float\n",
    ") -> pd.DataFrame:\n",
    "    \n",
    "    df = pd.DataFrame()\n",
    "    df['before'] = np.random.normal(mean, std, N)\n",
    "    df['after'] = df['before'] + np.random.normal(0, std_after, N)\n",
    "    df['group'] = None\n",
    "    control_idx = np.random.choice(df.index, test_size//2, replace=False)\n",
    "    df.loc[control_idx, 'group'] = 0\n",
    "    treatment_idx = np.random.choice(df[df['group'].isna()].index, test_size//2, replace=False)\n",
    "    df.loc[treatment_idx, 'group'] = 1\n",
    "    df.loc[df['group'] == 1, 'after'] += lift\n",
    "    \n",
    "    return df"
   ]
  },
  {
   "cell_type": "code",
   "execution_count": 16,
   "id": "d15bf12e-8da8-4d97-85fe-93789b6f5847",
   "metadata": {},
   "outputs": [],
   "source": [
    "def cuped_real(df: pd.DataFrame, use_theta: bool = True) -> pd.DataFrame:\n",
    "    \n",
    "    mean = np.mean(df['before'])\n",
    "    df = df[~df['group'].isna()]\n",
    "    \n",
    "    if use_theta:\n",
    "        theta = smf.ols('after ~ before', data=df).fit().params[1]\n",
    "    else:\n",
    "        theta = 1\n",
    "        \n",
    "    df['cuped'] = df['after'] - theta * (df['before'] - mean)\n",
    "    \n",
    "    return df.reset_index()"
   ]
  },
  {
   "cell_type": "code",
   "execution_count": 17,
   "id": "e07c63c9-077e-47a9-a2bb-d48cba02621d",
   "metadata": {},
   "outputs": [],
   "source": [
    "def simulate3(N: int, generation_conf: dict) -> tuple[np.ndarray, np.ndarray, np.ndarray, np.ndarray]:\n",
    "    pvalues_default = []\n",
    "    pvalues_cuped = []\n",
    "    lifts_default = []\n",
    "    lifts_cuped = []\n",
    "\n",
    "    for _ in tqdm(range(N)):\n",
    "        df_full = get_samples_real(**generation_conf)\n",
    "        df = cuped_real(df_full)\n",
    "\n",
    "        a_after = df[df['group'] == 0]['after'].values\n",
    "        b_after = df[df['group'] == 1]['after'].values\n",
    "        a_after_cuped = df[df['group'] == 0]['cuped'].values\n",
    "        b_after_cuped = df[df['group'] == 1]['cuped'].values\n",
    "\n",
    "        pvalues_default.append(ttest_ind(a_after, b_after).pvalue)\n",
    "        pvalues_cuped.append(ttest_ind(a_after_cuped, b_after_cuped).pvalue)\n",
    "\n",
    "        lifts_default.append(np.mean(b_after) - np.mean(a_after))\n",
    "        lifts_cuped.append(np.mean(b_after_cuped) - np.mean(a_after_cuped))\n",
    "        \n",
    "    return (\n",
    "        np.array(pvalues_default), \n",
    "        np.array(pvalues_cuped), \n",
    "        np.array(lifts_default), \n",
    "        np.array(lifts_cuped)\n",
    "    )"
   ]
  },
  {
   "cell_type": "code",
   "execution_count": 18,
   "id": "e3b86d29-0cf9-48b1-88ef-7b402d159d8b",
   "metadata": {},
   "outputs": [
    {
     "name": "stderr",
     "output_type": "stream",
     "text": [
      "100%|██████████████████████████████████████████| 1000/1000 [00:11<00:00, 89.44it/s]"
     ]
    },
    {
     "name": "stdout",
     "output_type": "stream",
     "text": [
      "Default:  p-values less than 0.05 = 505, mean p-value = 0.1496, variance of p-values = 0.0508324446\n",
      "          mean of computed lifts = 1.965, variance of lifts = 0.993\n",
      "\n",
      "Cuped:    p-values less than 0.05 = 999, mean p-value = 0.00095, variance of p-values = 1.59604e-05\n",
      "          mean of computed lifts = 1.992, variance of lifts = 0.199\n"
     ]
    },
    {
     "name": "stderr",
     "output_type": "stream",
     "text": [
      "\n"
     ]
    }
   ],
   "source": [
    "pvalues_default, pvalues_cuped, lifts_default, lifts_cuped = simulate3(\n",
    "    1000, \n",
    "    {'N': 10000, 'test_size': 2000, 'mean': 100, 'std': 20, 'std_after': 10, 'lift': 2}\n",
    ")\n",
    "\n",
    "print_stats(pvalues_default, pvalues_cuped, lifts_default, lifts_cuped)"
   ]
  },
  {
   "cell_type": "markdown",
   "id": "86dbef0f-8b26-4822-bb6e-4150a71a9f36",
   "metadata": {},
   "source": [
    "## Conclusions <a class=\"anchor\" id=\"6\"></a>"
   ]
  },
  {
   "cell_type": "markdown",
   "id": "3f68fccc-06ab-46ab-b2c5-6db206d041a7",
   "metadata": {},
   "source": [
    "To not repeat I will just say that as it was show before, cuped method helps us to make our test more sensitive, power of test increases significantly."
   ]
  }
 ],
 "metadata": {
  "kernelspec": {
   "display_name": "Python 3 (ipykernel)",
   "language": "python",
   "name": "python3"
  },
  "language_info": {
   "codemirror_mode": {
    "name": "ipython",
    "version": 3
   },
   "file_extension": ".py",
   "mimetype": "text/x-python",
   "name": "python",
   "nbconvert_exporter": "python",
   "pygments_lexer": "ipython3",
   "version": "3.9.13"
  }
 },
 "nbformat": 4,
 "nbformat_minor": 5
}
