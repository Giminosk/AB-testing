{
 "cells": [
  {
   "cell_type": "markdown",
   "id": "0e3063a0-6a11-496d-9adf-cf19aaed5080",
   "metadata": {},
   "source": [
    "# Linearization"
   ]
  },
  {
   "cell_type": "code",
   "execution_count": 1,
   "id": "2f45975b-f3a2-4b3f-a22a-80d6f13c7935",
   "metadata": {},
   "outputs": [],
   "source": [
    "import numpy as np\n",
    "import pandas as pd\n",
    "from tqdm import tqdm\n",
    "from scipy.stats import ttest_ind\n",
    "\n",
    "import matplotlib.pyplot as plt\n",
    "import seaborn as sns\n",
    "\n",
    "import warnings\n",
    "warnings.filterwarnings('ignore')"
   ]
  },
  {
   "cell_type": "code",
   "execution_count": 21,
   "id": "d3816e40-0859-4b2c-a816-1560307eaef0",
   "metadata": {},
   "outputs": [],
   "source": [
    "def get_data(N: int, lift: int=0) -> pd.DataFrame:\n",
    "    df = pd.DataFrame()\n",
    "    df['views'] = np.random.randint(700, 1300, N)\n",
    "    df['clicks'] = np.random.binomial(1000, 0.05, N)\n",
    "    df = df[df['views'] > df['clicks']]\n",
    "    \n",
    "    df['group'] = 'A1'\n",
    "    df.loc[np.random.choice(N, N//3, replace=False), 'group'] = 'A2'\n",
    "    df.loc[np.random.choice( df[df['group'] == 'A1'].index, N//3, replace=False ), 'group'] = 'B'\n",
    "    df.loc[df['group'] == 'B', 'clicks'] += lift\n",
    "    \n",
    "    return df"
   ]
  },
  {
   "cell_type": "code",
   "execution_count": 22,
   "id": "0540a634-8c78-4ac7-a2c9-53785ff7d241",
   "metadata": {},
   "outputs": [
    {
     "data": {
      "text/html": [
       "<div>\n",
       "<style scoped>\n",
       "    .dataframe tbody tr th:only-of-type {\n",
       "        vertical-align: middle;\n",
       "    }\n",
       "\n",
       "    .dataframe tbody tr th {\n",
       "        vertical-align: top;\n",
       "    }\n",
       "\n",
       "    .dataframe thead th {\n",
       "        text-align: right;\n",
       "    }\n",
       "</style>\n",
       "<table border=\"1\" class=\"dataframe\">\n",
       "  <thead>\n",
       "    <tr style=\"text-align: right;\">\n",
       "      <th></th>\n",
       "      <th>views</th>\n",
       "      <th>clicks</th>\n",
       "      <th>group</th>\n",
       "    </tr>\n",
       "  </thead>\n",
       "  <tbody>\n",
       "    <tr>\n",
       "      <th>0</th>\n",
       "      <td>1290</td>\n",
       "      <td>49</td>\n",
       "      <td>B</td>\n",
       "    </tr>\n",
       "    <tr>\n",
       "      <th>1</th>\n",
       "      <td>1102</td>\n",
       "      <td>60</td>\n",
       "      <td>B</td>\n",
       "    </tr>\n",
       "    <tr>\n",
       "      <th>2</th>\n",
       "      <td>1024</td>\n",
       "      <td>51</td>\n",
       "      <td>A1</td>\n",
       "    </tr>\n",
       "    <tr>\n",
       "      <th>3</th>\n",
       "      <td>961</td>\n",
       "      <td>55</td>\n",
       "      <td>A1</td>\n",
       "    </tr>\n",
       "    <tr>\n",
       "      <th>4</th>\n",
       "      <td>1079</td>\n",
       "      <td>42</td>\n",
       "      <td>A2</td>\n",
       "    </tr>\n",
       "  </tbody>\n",
       "</table>\n",
       "</div>"
      ],
      "text/plain": [
       "   views  clicks group\n",
       "0   1290      49     B\n",
       "1   1102      60     B\n",
       "2   1024      51    A1\n",
       "3    961      55    A1\n",
       "4   1079      42    A2"
      ]
     },
     "metadata": {},
     "output_type": "display_data"
    },
    {
     "data": {
      "text/plain": [
       "B     1000\n",
       "A1    1000\n",
       "A2    1000\n",
       "Name: group, dtype: int64"
      ]
     },
     "execution_count": 22,
     "metadata": {},
     "output_type": "execute_result"
    }
   ],
   "source": [
    "df = get_data(N=3000, lift=5)\n",
    "display(df.head())\n",
    "df['group'].value_counts()"
   ]
  },
  {
   "cell_type": "code",
   "execution_count": 4,
   "id": "63e83cf3-3374-47ef-8e40-8903f03fab3c",
   "metadata": {},
   "outputs": [],
   "source": [
    "def linearization(df: pd.DataFrame, a1: bool=True) -> pd.DataFrame:\n",
    "    \n",
    "    if a1:\n",
    "        df_ = df[df['group'] == 'A1']\n",
    "    else: \n",
    "        df_ = df[df['group'] == 'A']\n",
    "    K = np.sum(df_['clicks']) / np.sum(df_['views'])\n",
    "    \n",
    "    df['L'] = df['clicks'] - K * df['views']\n",
    "    \n",
    "    return df"
   ]
  },
  {
   "cell_type": "code",
   "execution_count": 5,
   "id": "2d781a9a-f1e1-4108-8742-8bb5b10d9c00",
   "metadata": {},
   "outputs": [],
   "source": [
    "def simulate(N: int, generation_conf: dict) -> tuple:\n",
    "    ctrs_diff = []  # default ctr, sum(all clicks) / sum(all views). For both groups, take diff\n",
    "    ctrs_per_user_diff = []  # compute ctr for each user, then take avarage. For both groups, take diff\n",
    "    l_diffs = []  # average of linearized metric. For both groups, take diff\n",
    "    pvalues_per_user = []  # p-values from t-test from a group per user ctrs and b group\n",
    "    pvalues_lin = [] # p-values from t-test from a group L-metric and b group\n",
    "    \n",
    "    for _ in tqdm(range(N)):\n",
    "        df = get_data(**generation_conf)\n",
    "        df = linearization(df)\n",
    "        a = df[df['group'] == 'A2']\n",
    "        b = df[df['group'] == 'B']\n",
    "\n",
    "        ctr_a = np.sum(a['clicks']) / np.sum(a['views'])\n",
    "        ctr_b = np.sum(b['clicks']) / np.sum(b['views'])\n",
    "        ctrs_diff.append(ctr_b - ctr_a)\n",
    "        \n",
    "        ctrs_per_user_diff.append( np.mean(b['clicks']/b['views']) - np.mean(a['clicks']/a['views']) )\n",
    "        \n",
    "        l_diffs.append(np.mean(b['L']) - np.mean(a['L']))\n",
    "        \n",
    "        pvalues_per_user.append(ttest_ind( a['clicks']/a['views'], b['clicks']/b['views'] ).pvalue)\n",
    "        pvalues_lin.append(ttest_ind(b['L'], a['L']).pvalue)\n",
    "        \n",
    "    return (np.array(ctrs_diff), \n",
    "            np.array(ctrs_per_user_diff),\n",
    "            np.array(l_diffs), \n",
    "            np.array(pvalues_per_user),\n",
    "            np.array(pvalues_lin))"
   ]
  },
  {
   "cell_type": "code",
   "execution_count": 6,
   "id": "f1bf60d1-6431-47d5-acd4-5fa92710fb25",
   "metadata": {},
   "outputs": [],
   "source": [
    "def print_stats(res):\n",
    "    print(f'Mean lift from ctrs = {np.mean(res[0])}, variance = {np.var(res[0])}')\n",
    "    print(f'Mean lift from per user ctrs = {np.mean(res[1])}, variance = {np.var(res[1])}')\n",
    "    print(f'Mean lift from linearized metric = {np.mean(res[2])}, variance = {np.var(res[2])}')\n",
    "    print(f'P-values for per user ctrs: less than 0.05 = {np.sum(res[3] < 0.05)}, mean p-value = {np.mean(res[3])}, variance = {np.var(res[3])}')\n",
    "    print(f'P-values for per linearized metric: less than 0.05 = {np.sum(res[4] < 0.05)}, mean p-value = {np.mean(res[4])}, variance = {np.var(res[4])}')"
   ]
  },
  {
   "cell_type": "code",
   "execution_count": 7,
   "id": "4f0b9820-94fd-4485-8f42-c868ab063ea2",
   "metadata": {},
   "outputs": [
    {
     "name": "stderr",
     "output_type": "stream",
     "text": [
      "100%|███████████████████████████████████| 1000/1000 [00:05<00:00, 170.21it/s]"
     ]
    },
    {
     "name": "stdout",
     "output_type": "stream",
     "text": [
      "Mean lift from ctrs = 0.003003985773104913, variance = 2.721898783603382e-07\n",
      "Mean lift from per user ctrs = 0.0031014393390969264, variance = 3.079870500280316e-07\n",
      "Mean lift from linearized metric = 3.002164588258871, variance = 0.2618106053409646\n",
      "P-values for per user ctrs: less than 0.05 = 1000, mean p-value = 5.609417526025244e-05, variance = 2.309107789701252e-07\n",
      "P-values for per linearized metric: less than 0.05 = 1000, mean p-value = 1.691884998663985e-05, variance = 2.0518024730075442e-08\n"
     ]
    },
    {
     "name": "stderr",
     "output_type": "stream",
     "text": [
      "\n"
     ]
    }
   ],
   "source": [
    "x = simulate(1000, {'N': 3000, 'lift': 3})\n",
    "print_stats(x)"
   ]
  },
  {
   "cell_type": "code",
   "execution_count": 8,
   "id": "576c9aa8-aca7-49bc-b0d7-7ace3a0c266e",
   "metadata": {},
   "outputs": [
    {
     "name": "stderr",
     "output_type": "stream",
     "text": [
      "100%|███████████████████████████████████| 1000/1000 [00:05<00:00, 175.07it/s]"
     ]
    },
    {
     "name": "stdout",
     "output_type": "stream",
     "text": [
      "Mean lift from ctrs = 0.00199881915987601, variance = 2.5060429761344223e-07\n",
      "Mean lift from per user ctrs = 0.0020621390261612743, variance = 2.8019821492745906e-07\n",
      "Mean lift from linearized metric = 1.9975660257388559, variance = 0.24399116851093688\n",
      "P-values for per user ctrs: less than 0.05 = 972, mean p-value = 0.006016465561094144, variance = 0.0006862740632206404\n",
      "P-values for per linearized metric: less than 0.05 = 979, mean p-value = 0.004542552930052972, variance = 0.0005590658856373009\n"
     ]
    },
    {
     "name": "stderr",
     "output_type": "stream",
     "text": [
      "\n"
     ]
    }
   ],
   "source": [
    "x = simulate(1000, {'N': 3000, 'lift': 2})\n",
    "print_stats(x)"
   ]
  },
  {
   "cell_type": "code",
   "execution_count": 9,
   "id": "10f0640e-8bde-48dd-a4c6-da29420a59f1",
   "metadata": {},
   "outputs": [
    {
     "name": "stderr",
     "output_type": "stream",
     "text": [
      "100%|███████████████████████████████████| 1000/1000 [00:05<00:00, 168.64it/s]"
     ]
    },
    {
     "name": "stdout",
     "output_type": "stream",
     "text": [
      "Mean lift from ctrs = 0.000992460941150469, variance = 2.639472189940837e-07\n",
      "Mean lift from per user ctrs = 0.001030175873182916, variance = 2.9954464012048275e-07\n",
      "Mean lift from linearized metric = 0.9920278566909171, variance = 0.2606455622361018\n",
      "P-values for per user ctrs: less than 0.05 = 511, mean p-value = 0.15569796243012327, variance = 0.05265565159381121\n",
      "P-values for per linearized metric: less than 0.05 = 528, mean p-value = 0.14599633442900115, variance = 0.050323616860643655\n"
     ]
    },
    {
     "name": "stderr",
     "output_type": "stream",
     "text": [
      "\n"
     ]
    }
   ],
   "source": [
    "x = simulate(1000, {'N': 3000, 'lift': 1})\n",
    "print_stats(x)"
   ]
  },
  {
   "cell_type": "code",
   "execution_count": 24,
   "id": "5b61178f-fad1-4c48-a8fa-36eac1c2835a",
   "metadata": {},
   "outputs": [
    {
     "name": "stderr",
     "output_type": "stream",
     "text": [
      "100%|█████████████████████████████████| 10000/10000 [01:25<00:00, 117.31it/s]"
     ]
    },
    {
     "name": "stdout",
     "output_type": "stream",
     "text": [
      "Mean lift from ctrs = 0.0010025836242332923, variance = 8.186673850142936e-08\n",
      "Mean lift from per user ctrs = 0.0010345302442816946, variance = 9.219969308423104e-08\n",
      "Mean lift from linearized metric = 1.0020565649365227, variance = 0.08078100889639063\n",
      "P-values for per user ctrs: less than 0.05 = 9217, mean p-value = 0.016477723075798006, variance = 0.003488095164584525\n",
      "P-values for per linearized metric: less than 0.05 = 9394, mean p-value = 0.013108677599769768, variance = 0.0026805048680486714\n"
     ]
    },
    {
     "name": "stderr",
     "output_type": "stream",
     "text": [
      "\n"
     ]
    }
   ],
   "source": [
    "x = simulate(10000, {'N': 9000, 'lift': 1})\n",
    "print_stats(x)"
   ]
  },
  {
   "cell_type": "code",
   "execution_count": null,
   "id": "dffa595e-03e4-46c6-adde-8143f3a9d42a",
   "metadata": {},
   "outputs": [],
   "source": []
  }
 ],
 "metadata": {
  "kernelspec": {
   "display_name": "Python 3 (ipykernel)",
   "language": "python",
   "name": "python3"
  },
  "language_info": {
   "codemirror_mode": {
    "name": "ipython",
    "version": 3
   },
   "file_extension": ".py",
   "mimetype": "text/x-python",
   "name": "python",
   "nbconvert_exporter": "python",
   "pygments_lexer": "ipython3",
   "version": "3.9.13"
  }
 },
 "nbformat": 4,
 "nbformat_minor": 5
}
